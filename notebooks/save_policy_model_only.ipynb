{
 "cells": [
  {
   "cell_type": "code",
   "execution_count": 3,
   "id": "86773628",
   "metadata": {},
   "outputs": [
    {
     "data": {
      "application/vnd.jupyter.widget-view+json": {
       "model_id": "fbfe5d4b6bbd49458debdeea4198638d",
       "version_major": 2,
       "version_minor": 0
      },
      "text/plain": [
       "Loading checkpoint shards:   0%|          | 0/4 [00:00<?, ?it/s]"
      ]
     },
     "metadata": {},
     "output_type": "display_data"
    },
    {
     "name": "stderr",
     "output_type": "stream",
     "text": [
      "Some weights of the model checkpoint at /data/qs4-data2/PPO-with-Confidence/models/PPO/Llama-3.1-8B-Instruct_ppo_DeepValueHead_simple_reward_steps30k_vfcoef0.5_lr5e-4_0.1sfttrain were not used when initializing LlamaForCausalLM: ['v_head.hidden.bias', 'v_head.hidden.weight', 'v_head.summary.bias', 'v_head.summary.weight']\n",
      "- This IS expected if you are initializing LlamaForCausalLM from the checkpoint of a model trained on another task or with another architecture (e.g. initializing a BertForSequenceClassification model from a BertForPreTraining model).\n",
      "- This IS NOT expected if you are initializing LlamaForCausalLM from the checkpoint of a model that you expect to be exactly identical (initializing a BertForSequenceClassification model from a BertForSequenceClassification model).\n"
     ]
    },
    {
     "name": "stdout",
     "output_type": "stream",
     "text": [
      "✅ Policy (causal LM backbone) saved to: /data/qs4-data2/PPO-with-Confidence/models/PPO/Llama-3.1-8B-Instruct_ppo_DeepValueHead_simple_reward_steps30k_vfcoef0.5_lr5e-4_0.1sfttrain/policy_only\n"
     ]
    }
   ],
   "source": [
    "from transformers import AutoTokenizer\n",
    "from transformers import AutoModelForCausalLM, AutoConfig\n",
    "import os\n",
    "from pathlib import Path\n",
    "\n",
    "# ---- Paths ----\n",
    "model_dir = \"/data/qs4-data2/PPO-with-Confidence/models/PPO/Llama-3.1-8B-Instruct_ppo_DeepValueHead_simple_reward_steps30k_vfcoef0.5_lr5e-4_0.1sfttrain\"\n",
    "model_path = Path(model_dir)\n",
    "save_dir = model_dir + \"/policy_only\"\n",
    "os.makedirs(save_dir, exist_ok=True)\n",
    "\n",
    "is_local = model_path.exists()\n",
    "\n",
    "# ---- Load model ----\n",
    "tokenizer = AutoTokenizer.from_pretrained(model_dir, padding_side=\"left\")\n",
    "tokenizer.pad_token_id = tokenizer.eos_token_id\n",
    "\n",
    "model_config = AutoConfig.from_pretrained(\n",
    "    model_dir,\n",
    "    local_files_only=is_local\n",
    ")\n",
    "\n",
    "model = AutoModelForCausalLM.from_pretrained(model_dir, config=model_config)\n",
    "\n",
    "model.save_pretrained(save_dir)\n",
    "tokenizer.save_pretrained(save_dir)\n",
    "\n",
    "print(\"✅ Policy (causal LM backbone) saved to:\", save_dir)\n"
   ]
  },
  {
   "cell_type": "code",
   "execution_count": null,
   "id": "4daa9b57",
   "metadata": {},
   "outputs": [],
   "source": []
  }
 ],
 "metadata": {
  "kernelspec": {
   "display_name": "rlft_confidence",
   "language": "python",
   "name": "python3"
  },
  "language_info": {
   "codemirror_mode": {
    "name": "ipython",
    "version": 3
   },
   "file_extension": ".py",
   "mimetype": "text/x-python",
   "name": "python",
   "nbconvert_exporter": "python",
   "pygments_lexer": "ipython3",
   "version": "3.13.2"
  }
 },
 "nbformat": 4,
 "nbformat_minor": 5
}
